{
 "cells": [
  {
   "cell_type": "markdown",
   "metadata": {
    "id": "m-EJlU_muRrh"
   },
   "source": [
    "Data Structures Assignment - 2"
   ]
  },
  {
   "cell_type": "markdown",
   "metadata": {
    "id": "UtRVhtm0uW4V"
   },
   "source": [
    "Theory questions"
   ]
  },
  {
   "cell_type": "markdown",
   "metadata": {
    "id": "8gHpc7Mjt9pS"
   },
   "source": [
    "1. What are data structures, and why are they important?\n",
    "     \n",
    "   Data structures are ways of organizing and storing data in a computer so that it can be accessed and modified efficiently. Think of them as tools or containers specifically designed to handle data in a certain way, depending on what you need to do with it."
   ]
  },
  {
   "cell_type": "markdown",
   "metadata": {
    "id": "ywMgn821ulQ-"
   },
   "source": [
    "2.  Explain the difference between mutable and immutable data types with examples?\n",
    "  1. Mutable objects: Can be changed after creation.\n",
    "  2.You can modify, add, or remove elements without creating a new object.\n",
    "  Ex:- list, dict, set.\n"
   ]
  },
  {
   "cell_type": "code",
   "execution_count": 6,
   "metadata": {
    "colab": {
     "base_uri": "https://localhost:8080/"
    },
    "id": "8lKYnQ6jxL_c",
    "outputId": "4bb8ac9e-8da4-491f-cabf-c529ed1d4a74"
   },
   "outputs": [
    {
     "name": "stdout",
     "output_type": "stream",
     "text": [
      "[1, 2, 3, 4]\n"
     ]
    }
   ],
   "source": [
    "my_list = [1, 2, 3]\n",
    "my_list.append(4)\n",
    "print(my_list)"
   ]
  },
  {
   "cell_type": "markdown",
   "metadata": {
    "id": "HXadJfEmyg_q"
   },
   "source": [
    "Immutable objects: Cannot be changed after creation\n",
    "Example: int, float, str, tuple"
   ]
  },
  {
   "cell_type": "markdown",
   "metadata": {
    "id": "_YvcGl0fyfSG"
   },
   "source": [
    "ex:int, float ,strong tuplple"
   ]
  },
  {
   "cell_type": "code",
   "execution_count": 7,
   "metadata": {
    "colab": {
     "base_uri": "https://localhost:8080/",
     "height": 35
    },
    "id": "qPczfIfsy_Z1",
    "outputId": "dcd0d564-8f00-4ea6-d89a-7d1d08ad2490"
   },
   "outputs": [
    {
     "data": {
      "application/vnd.google.colaboratory.intrinsic+json": {
       "type": "string"
      },
      "text/plain": [
       "'h'"
      ]
     },
     "execution_count": 7,
     "metadata": {},
     "output_type": "execute_result"
    }
   ],
   "source": [
    "my_str = \"hello\"\n",
    "my_str[0]"
   ]
  },
  {
   "cell_type": "markdown",
   "metadata": {
    "id": "-TTJdHcqzp-a"
   },
   "source": [
    "3. Differences between tuple and list?"
   ]
  },
  {
   "cell_type": "markdown",
   "metadata": {
    "id": "1Klz3M0NzTjL"
   },
   "source": [
    "Lists are mutable objects they can be changed after creation.\n",
    "Tuples are immutable objects they cannot be changed after creation"
   ]
  },
  {
   "cell_type": "markdown",
   "metadata": {
    "id": "Cj7QuE5hzSn6"
   },
   "source": [
    "4. Describe how Dictionaries Store Data?\n",
    "Dictionaries store key-value pairs.\n",
    "\n",
    "Under the hood, they use a hash table, allowing fast lookup, insertion, and deletion."
   ]
  },
  {
   "cell_type": "code",
   "execution_count": 8,
   "metadata": {
    "id": "hTfgcDG5zSLd"
   },
   "outputs": [],
   "source": [
    "my_dict = {\"name\": \"Alice\", \"age\": 25}"
   ]
  },
  {
   "cell_type": "markdown",
   "metadata": {
    "id": "cA7LvutnzOdU"
   },
   "source": [
    "5. Why  you might Use a Set Instead of a List\n",
    "\n",
    "Sets automatically remove duplicates.\n",
    "\n",
    "They offer faster membership testing (in) than lists."
   ]
  },
  {
   "cell_type": "code",
   "execution_count": 9,
   "metadata": {
    "colab": {
     "base_uri": "https://localhost:8080/"
    },
    "id": "5OPaUjfA14kk",
    "outputId": "b683c540-c288-4a12-d118-abd8e9d3bdfa"
   },
   "outputs": [
    {
     "name": "stdout",
     "output_type": "stream",
     "text": [
      "{1, 2, 3}\n"
     ]
    }
   ],
   "source": [
    "my_set = {1, 2, 3, 2}\n",
    "print(my_set)"
   ]
  },
  {
   "cell_type": "markdown",
   "metadata": {
    "id": "V6R8paAD2M4O"
   },
   "source": [
    "6. What Is a String in Python  and how it is different from list\n",
    "\n",
    "String: A sequence of characters immutable\n",
    "\n",
    "List: A sequence of any data types mutable"
   ]
  },
  {
   "cell_type": "markdown",
   "metadata": {
    "id": "5LwhFoR_2LNL"
   },
   "source": [
    "7. How Tuples Ensure Data Integrity in python\n",
    "\n",
    "Because tuples are immutable, they cannot be changed after creation.\n",
    "\n",
    "Useful for fixed collections like coordinates or config settings."
   ]
  },
  {
   "cell_type": "markdown",
   "metadata": {
    "id": "KWGKWvaJ2KJh"
   },
   "source": [
    "8. What Is a Hash Table and how does its Related to Dictionaries in python\n",
    "\n",
    "A hash table maps keys to values using a hashing function.\n",
    "\n",
    "Python dictionaries are implemented using hash tables, making access time almost constant"
   ]
  },
  {
   "cell_type": "markdown",
   "metadata": {
    "id": "6Hgdpsva21Kv"
   },
   "source": [
    "9. Can Lists Contain Different Data Types in Python?\n",
    "\n",
    "Yes. Python lists can contain mixed data types"
   ]
  },
  {
   "cell_type": "code",
   "execution_count": 10,
   "metadata": {
    "id": "MIllb5Nr26LC"
   },
   "outputs": [],
   "source": [
    "mixed_list = [1, \"hello\", 3.14, True]"
   ]
  },
  {
   "cell_type": "markdown",
   "metadata": {
    "id": "jbHcGKfq22uD"
   },
   "source": [
    "10.  Explain Why Are Strings Immutable in Python?\n",
    "\n",
    "1.For performance and security.\n",
    "\n",
    "2.Allows safe sharing and makes strings hashable (usable as dictionary keys)"
   ]
  },
  {
   "cell_type": "markdown",
   "metadata": {
    "id": "wB4lpeYO3KHA"
   },
   "source": [
    "11. What advantages do dictionaries offer over lists for certain tasks\n",
    "\n",
    "Faster lookup with keys.\n",
    "\n",
    "More semantic clarity using key-value pairs.\n",
    "\n",
    "python\n",
    "Copy\n",
    "Edit\n"
   ]
  },
  {
   "cell_type": "markdown",
   "metadata": {
    "id": "hV-HZ7-vGyf3"
   },
   "source": [
    "12. Describe a scenario where using a tuple would be preferable over a list.\n",
    "When data should not change:\n",
    "\n",
    "Function returns multiple values\n",
    "\n",
    "Coordinates (x, y)\n",
    "\n",
    "Dictionary keys\n"
   ]
  },
  {
   "cell_type": "markdown",
   "metadata": {
    "id": "mAwZ3YD8HFmU"
   },
   "source": [
    "13.How do sets handle duplicate values in Python?\n",
    "Sets do not allow duplicates.\n",
    "\n",
    "Adding a duplicate value has no effect."
   ]
  },
  {
   "cell_type": "code",
   "execution_count": 11,
   "metadata": {
    "colab": {
     "base_uri": "https://localhost:8080/"
    },
    "id": "wPtQbKOdHOxT",
    "outputId": "a3cbe54a-781a-4b1b-9de8-a86b18454d4b"
   },
   "outputs": [
    {
     "name": "stdout",
     "output_type": "stream",
     "text": [
      "{1, 2, 3}\n"
     ]
    }
   ],
   "source": [
    "s = {1, 2, 2, 3}\n",
    "print(s)"
   ]
  },
  {
   "cell_type": "code",
   "execution_count": null,
   "metadata": {
    "id": "1CqVbkeoHWRR"
   },
   "outputs": [],
   "source": [
    "# prompt: 14.How does the \"in\" keyword work differently for lists and dictionaries?\n",
    "\n",
    "# The \"in\" keyword checks for membership in a sequence.  However, it behaves differently for lists and dictionaries:\n",
    "\n",
    "# Lists:\n",
    "# \"in\" checks if an element exists within the list.\n",
    "my_list = [1, 2, 3, 4, 5]\n",
    "print(3 in my_list)  # Output: True\n",
    "print(6 in my_list)  # Output: False\n",
    "\n",
    "# Dictionaries:\n",
    "# \"in\" checks if a *key* exists in the dictionary.  It does NOT check for values.\n",
    "my_dict = {\"name\": \"Alice\", \"age\": 30, \"city\": \"New York\"}\n",
    "print(\"name\" in my_dict)  # Output: True (checks if \"name\" is a key)\n",
    "print(\"Alice\" in my_dict) # Output: False (checks if \"Alice\" is a key)\n",
    "print(\"Alice\" in my_dict.values()) # Output: True (checks if \"Alice\" is a value)\n"
   ]
  },
  {
   "cell_type": "markdown",
   "metadata": {
    "id": "6MHLGUndHkIJ"
   },
   "source": [
    "15.Can you modify the elements of a tuple? Explain why or why not.\n",
    "1.No, tuples are immutable.\n",
    "\n",
    "2.Once created, the elements cannot be changed, added, or removed.\n",
    "3. Immutability ensures data integrity, makes tuples hashable, and suitable as dictionary keys or set elements.\n",
    "\n"
   ]
  },
  {
   "cell_type": "code",
   "execution_count": 12,
   "metadata": {
    "colab": {
     "base_uri": "https://localhost:8080/",
     "height": 158
    },
    "id": "KACkZte4IGcS",
    "outputId": "c478eb16-628b-4203-f4d8-9ef165f24ffb"
   },
   "outputs": [
    {
     "ename": "TypeError",
     "evalue": "'tuple' object is not callable",
     "output_type": "error",
     "traceback": [
      "\u001b[0;31m---------------------------------------------------------------------------\u001b[0m",
      "\u001b[0;31mTypeError\u001b[0m                                 Traceback (most recent call last)",
      "\u001b[0;32m<ipython-input-12-b1307eef7a2d>\u001b[0m in \u001b[0;36m<cell line: 0>\u001b[0;34m()\u001b[0m\n\u001b[1;32m      1\u001b[0m \u001b[0mt\u001b[0m \u001b[0;34m=\u001b[0m \u001b[0;34m(\u001b[0m\u001b[0;36m1\u001b[0m\u001b[0;34m,\u001b[0m \u001b[0;36m2\u001b[0m\u001b[0;34m,\u001b[0m \u001b[0;36m3\u001b[0m\u001b[0;34m)\u001b[0m\u001b[0;34m\u001b[0m\u001b[0;34m\u001b[0m\u001b[0m\n\u001b[0;32m----> 2\u001b[0;31m \u001b[0mt\u001b[0m\u001b[0;34m(\u001b[0m\u001b[0;36m0\u001b[0m\u001b[0;34m)\u001b[0m\u001b[0;34m\u001b[0m\u001b[0;34m\u001b[0m\u001b[0m\n\u001b[0m",
      "\u001b[0;31mTypeError\u001b[0m: 'tuple' object is not callable"
     ]
    }
   ],
   "source": [
    "t = (1, 2, 3)\n",
    "t(0)"
   ]
  },
  {
   "cell_type": "code",
   "execution_count": null,
   "metadata": {
    "id": "1Mly7HdOILU_"
   },
   "outputs": [],
   "source": [
    "16. What is a nested dictionary, and give an example of its use case?\n",
    "A dictionary inside another dictionary.\n",
    "\n",
    "Useful for representing structured data, like JSON."
   ]
  },
  {
   "cell_type": "code",
   "execution_count": 13,
   "metadata": {
    "id": "9wHc-zA0IaPK"
   },
   "outputs": [],
   "source": [
    "students = {\n",
    "    \"001\": {\"name\": \"Alice\", \"age\": 20},\n",
    "    \"002\": {\"name\": \"Bob\", \"age\": 22}\n",
    "}"
   ]
  },
  {
   "cell_type": "code",
   "execution_count": null,
   "metadata": {
    "id": "NT5KnxNRIdLn"
   },
   "outputs": [],
   "source": []
  },
  {
   "cell_type": "markdown",
   "metadata": {
    "id": "MoHVl2ViIe2I"
   },
   "source": [
    "17. Describe the time complexity of accessing elements in a dictionary\n",
    "1.Average case: O(1) constant time.\n",
    "\n",
    "2.Worst case (rare, with hash collisions): O(n)\n",
    "\n",
    "3.dictionaries use hash tables, which allow quick access based on the key."
   ]
  },
  {
   "cell_type": "markdown",
   "metadata": {
    "id": "pSJ6wCZxIt7b"
   },
   "source": [
    "18. In what situations are lists preferred over dictionaries?\n",
    "\n",
    "1.When order of items matters.\n",
    "\n",
    "2.When data doesn't have a natural key.\n",
    "\n",
    "3.For simple sequences like to-do lists or arrays."
   ]
  },
  {
   "cell_type": "markdown",
   "metadata": {
    "id": "UauXHsCOJJxq"
   },
   "source": [
    "19. Why are dictionaries considered unordered, and how does that affect data retrieval?\n",
    "\n",
    "1.In versions before Python 3.7, dicts did not preserve insertion order.\n",
    "\n",
    "2.Now (Python 3.7+), they do, but conceptually, they’re unordered mappings.\n",
    "\n",
    "3.this means you should not rely on order for logic, unless you intentionally use OrderedDict."
   ]
  },
  {
   "cell_type": "markdown",
   "metadata": {
    "id": "9fuV8D99JjMM"
   },
   "source": [
    "20. Explain the difference between a list and a dictionary in terms of dataretrieval\n",
    "\n",
    "Feature \t          List\t                   Dictionary\n",
    "Access method\t    By index (position)\t       By key\n",
    "Time complexity\t    O(1) for index\t         O(1) for key (average case)\n",
    "Use case\t          Ordered sequences\t       Key-value pairs\n",
    "Example\t            my_list[0]\t             my_dict[\"name\"]"
   ]
  },
  {
   "cell_type": "markdown",
   "metadata": {
    "id": "Ct3_iHxIKL5u"
   },
   "source": [
    "Practical questions"
   ]
  },
  {
   "cell_type": "markdown",
   "metadata": {
    "id": "AJXFquxHK3u0"
   },
   "source": [
    "1. Write a code to create a string with your name and print it."
   ]
  },
  {
   "cell_type": "code",
   "execution_count": 14,
   "metadata": {
    "colab": {
     "base_uri": "https://localhost:8080/"
    },
    "id": "xAPhamgSKgpr",
    "outputId": "710132f7-5bcd-4262-c051-1620576a3163"
   },
   "outputs": [
    {
     "name": "stdout",
     "output_type": "stream",
     "text": [
      "sahana\n"
     ]
    }
   ],
   "source": [
    "name = \"sahana\"\n",
    "print(name)"
   ]
  },
  {
   "cell_type": "markdown",
   "metadata": {
    "id": "2tscwIHSKwGk"
   },
   "source": [
    "2. Write a code to find the length of the string \"Hello World\"."
   ]
  },
  {
   "cell_type": "code",
   "execution_count": 15,
   "metadata": {
    "colab": {
     "base_uri": "https://localhost:8080/"
    },
    "id": "obcdoPkuKo6Y",
    "outputId": "dfbe3f3e-cb6d-4415-c949-8a75e5e753da"
   },
   "outputs": [
    {
     "name": "stdout",
     "output_type": "stream",
     "text": [
      "11\n"
     ]
    }
   ],
   "source": [
    "text = \"Hello World\"\n",
    "print(len(text))"
   ]
  },
  {
   "cell_type": "markdown",
   "metadata": {
    "id": "EBacoYYeKt8x"
   },
   "source": [
    "3. Write a code to slice the first 3 characters from the string \"Python] Programming\"."
   ]
  },
  {
   "cell_type": "code",
   "execution_count": 16,
   "metadata": {
    "colab": {
     "base_uri": "https://localhost:8080/"
    },
    "id": "Nspot-flKsRz",
    "outputId": "4fea1330-cb07-40d4-df64-68521b50c70f"
   },
   "outputs": [
    {
     "name": "stdout",
     "output_type": "stream",
     "text": [
      "Pyt\n"
     ]
    }
   ],
   "source": [
    "string = \"Python Programming\"\n",
    "print(string[:3])"
   ]
  },
  {
   "cell_type": "markdown",
   "metadata": {
    "id": "m4tWNWgrLL66"
   },
   "source": [
    "4. Write a code to convert the string \"hello\" to uppercase."
   ]
  },
  {
   "cell_type": "code",
   "execution_count": 18,
   "metadata": {
    "colab": {
     "base_uri": "https://localhost:8080/"
    },
    "id": "rYFzU1dULHsz",
    "outputId": "6ab0d81d-15ec-499f-c737-c9f315197d39"
   },
   "outputs": [
    {
     "name": "stdout",
     "output_type": "stream",
     "text": [
      "HELLO\n"
     ]
    }
   ],
   "source": [
    "s = \"hello\"\n",
    "print(s.upper())"
   ]
  },
  {
   "cell_type": "code",
   "execution_count": null,
   "metadata": {
    "id": "W4CKHs14LaO_"
   },
   "outputs": [],
   "source": [
    "5. Write a code to replace the word \"apple\" with \"orange\" in the string \"I like apple\"."
   ]
  },
  {
   "cell_type": "code",
   "execution_count": 19,
   "metadata": {
    "colab": {
     "base_uri": "https://localhost:8080/"
    },
    "id": "XW7pUdsNLjpm",
    "outputId": "95dc2a8b-a148-46c9-9883-31f87adfa61a"
   },
   "outputs": [
    {
     "name": "stdout",
     "output_type": "stream",
     "text": [
      "I like orange\n"
     ]
    }
   ],
   "source": [
    "sentence = \"I like apple\"\n",
    "new_sentence = sentence.replace(\"apple\", \"orange\")\n",
    "print(new_sentence)\n"
   ]
  },
  {
   "cell_type": "markdown",
   "metadata": {
    "id": "V5CwC4pDL4Jw"
   },
   "source": [
    "6. Write a code to create a list with numbers 1 to 5 and print it."
   ]
  },
  {
   "cell_type": "code",
   "execution_count": 20,
   "metadata": {
    "colab": {
     "base_uri": "https://localhost:8080/"
    },
    "id": "wbqMYsRTL5K0",
    "outputId": "88b2ccfb-de49-466e-bcbd-68468e111d73"
   },
   "outputs": [
    {
     "name": "stdout",
     "output_type": "stream",
     "text": [
      "[1, 2, 3, 4, 5]\n"
     ]
    }
   ],
   "source": [
    "numbers = [1, 2, 3, 4, 5]\n",
    "print(numbers)"
   ]
  },
  {
   "cell_type": "markdown",
   "metadata": {
    "id": "3OpRnQjvMHwK"
   },
   "source": [
    "7. Write a code to append the number 10 to the list [1, 2, 3, 4]."
   ]
  },
  {
   "cell_type": "code",
   "execution_count": 21,
   "metadata": {
    "colab": {
     "base_uri": "https://localhost:8080/"
    },
    "id": "6ze6xAahMI90",
    "outputId": "0c2dd257-f2c3-484e-c948-71d0683637d6"
   },
   "outputs": [
    {
     "name": "stdout",
     "output_type": "stream",
     "text": [
      "[1, 2, 3, 4, 10]\n"
     ]
    }
   ],
   "source": [
    "numbers = [1, 2, 3, 4]\n",
    "numbers.append(10)\n",
    "print(numbers)"
   ]
  },
  {
   "cell_type": "markdown",
   "metadata": {
    "id": "Rfu0W0-PMT80"
   },
   "source": [
    "8. Write a code to remove the number 3 from the list [1, 2, 3, 4, 5]."
   ]
  },
  {
   "cell_type": "code",
   "execution_count": 22,
   "metadata": {
    "colab": {
     "base_uri": "https://localhost:8080/"
    },
    "id": "jwtR3K94MU0S",
    "outputId": "e169fea3-ca97-4eb9-b840-a40c634c97ec"
   },
   "outputs": [
    {
     "name": "stdout",
     "output_type": "stream",
     "text": [
      "[1, 2, 4, 5]\n"
     ]
    }
   ],
   "source": [
    "numbers = [1, 2, 3, 4, 5]\n",
    "numbers.remove(3)\n",
    "print(numbers)"
   ]
  },
  {
   "cell_type": "code",
   "execution_count": null,
   "metadata": {
    "id": "IO6VhA7EMXya"
   },
   "outputs": [],
   "source": [
    "9. Write a code to access the second element in the list ['a', 'b', 'c', 'd'].\n"
   ]
  },
  {
   "cell_type": "code",
   "execution_count": 23,
   "metadata": {
    "colab": {
     "base_uri": "https://localhost:8080/"
    },
    "id": "dz2ieAdJMkr1",
    "outputId": "7e3317fa-1cac-4600-c3d6-029de6afe826"
   },
   "outputs": [
    {
     "name": "stdout",
     "output_type": "stream",
     "text": [
      "b\n"
     ]
    }
   ],
   "source": [
    "letters = ['a', 'b', 'c', 'd']\n",
    "print(letters[1])"
   ]
  },
  {
   "cell_type": "markdown",
   "metadata": {
    "id": "2LfpznXtMuxa"
   },
   "source": [
    "10. Write a code to reverse the list [10, 20, 30, 40, 50].\n",
    "\n"
   ]
  },
  {
   "cell_type": "code",
   "execution_count": 24,
   "metadata": {
    "colab": {
     "base_uri": "https://localhost:8080/"
    },
    "id": "_X1Mi_pVMx8a",
    "outputId": "3a320d32-8096-4d92-aeaa-8424f168e7d0"
   },
   "outputs": [
    {
     "name": "stdout",
     "output_type": "stream",
     "text": [
      "[50, 40, 30, 20, 10]\n"
     ]
    }
   ],
   "source": [
    "my_list = [10, 20, 30, 40, 50]\n",
    "reversed_list = my_list[::-1]\n",
    "print(reversed_list)"
   ]
  },
  {
   "cell_type": "markdown",
   "metadata": {
    "id": "AS3Uvw9ZNS9r"
   },
   "source": [
    "11. Write a code to create a tuple with the elements 100, 200, 300 and print it."
   ]
  },
  {
   "cell_type": "code",
   "execution_count": 25,
   "metadata": {
    "colab": {
     "base_uri": "https://localhost:8080/"
    },
    "id": "E0VcZ8sXNJzL",
    "outputId": "f517210c-fd16-4b71-e131-625741ab4a26"
   },
   "outputs": [
    {
     "name": "stdout",
     "output_type": "stream",
     "text": [
      "(100, 200, 300)\n"
     ]
    }
   ],
   "source": [
    "my_tuple = (100, 200, 300)\n",
    "print(my_tuple)"
   ]
  },
  {
   "cell_type": "markdown",
   "metadata": {
    "id": "xH6dAlpJNedg"
   },
   "source": [
    "12. Write a code to access the second-to-last element of the tuple ('red', 'green', 'blue', 'yellow').\n"
   ]
  },
  {
   "cell_type": "code",
   "execution_count": 26,
   "metadata": {
    "colab": {
     "base_uri": "https://localhost:8080/"
    },
    "id": "fYkach_HNf57",
    "outputId": "961fd5a0-e7e1-4d34-ad97-779cdbd29d09"
   },
   "outputs": [
    {
     "name": "stdout",
     "output_type": "stream",
     "text": [
      "blue\n"
     ]
    }
   ],
   "source": [
    "colors = ('red', 'green', 'blue', 'yellow')\n",
    "print(colors[-2])"
   ]
  },
  {
   "cell_type": "markdown",
   "metadata": {
    "id": "SIShXUV-Nn4k"
   },
   "source": [
    "13. Write a code to find the minimum number in the tuple (10, 20, 5, 15)."
   ]
  },
  {
   "cell_type": "code",
   "execution_count": 27,
   "metadata": {
    "colab": {
     "base_uri": "https://localhost:8080/"
    },
    "id": "se-7ggzBNjbG",
    "outputId": "74cd9dd3-244a-47b2-a884-e1b354bde1b4"
   },
   "outputs": [
    {
     "name": "stdout",
     "output_type": "stream",
     "text": [
      "blue\n"
     ]
    }
   ],
   "source": [
    "colors = ('red', 'green', 'blue', 'yellow')\n",
    "print(colors[-2])"
   ]
  },
  {
   "cell_type": "markdown",
   "metadata": {
    "id": "_forTwh3OY30"
   },
   "source": [
    "14. Write a code to find the index of the element \"cat\" in the tuple ('dog', 'cat', 'rabbit')."
   ]
  },
  {
   "cell_type": "code",
   "execution_count": 28,
   "metadata": {
    "colab": {
     "base_uri": "https://localhost:8080/"
    },
    "id": "46sXTnxkOdMb",
    "outputId": "d9ee41c9-2c9a-44a9-9506-218e97df7d57"
   },
   "outputs": [
    {
     "name": "stdout",
     "output_type": "stream",
     "text": [
      "Index of 'cat': 1\n"
     ]
    }
   ],
   "source": [
    "animals = ('dog', 'cat', 'rabbit')\n",
    "cat_index = animals.index('cat')\n",
    "print(\"Index of 'cat':\", cat_index)"
   ]
  },
  {
   "cell_type": "markdown",
   "metadata": {
    "id": "io4VbiqYOwfy"
   },
   "source": [
    "15. Write a code to create a tuple containing three different fruits and check \"kiwi\" is in it.\n"
   ]
  },
  {
   "cell_type": "code",
   "execution_count": 29,
   "metadata": {
    "colab": {
     "base_uri": "https://localhost:8080/"
    },
    "id": "R_8AlAIBOp-u",
    "outputId": "842d8c65-9c04-4bec-f0b4-0de6e7e5402e"
   },
   "outputs": [
    {
     "name": "stdout",
     "output_type": "stream",
     "text": [
      "Is 'kiwi' in the tuple? False\n"
     ]
    }
   ],
   "source": [
    "fruits = ('apple', 'banana', 'mango')\n",
    "print(\"Is 'kiwi' in the tuple?\", 'kiwi' in fruits)"
   ]
  },
  {
   "cell_type": "code",
   "execution_count": null,
   "metadata": {
    "id": "i5MZjjxBO0nJ"
   },
   "outputs": [],
   "source": []
  },
  {
   "cell_type": "markdown",
   "metadata": {
    "id": "aO5m5J3sPArH"
   },
   "source": [
    "16. Write a code to create a set with the elements 'a', 'b', 'c' and print it."
   ]
  },
  {
   "cell_type": "code",
   "execution_count": 30,
   "metadata": {
    "colab": {
     "base_uri": "https://localhost:8080/"
    },
    "id": "itvbfQJtPCGw",
    "outputId": "c052676f-8505-4e75-eee1-0041936e53dc"
   },
   "outputs": [
    {
     "name": "stdout",
     "output_type": "stream",
     "text": [
      "Set: {'b', 'c', 'a'}\n"
     ]
    }
   ],
   "source": [
    "letters = {'a', 'b', 'c'}\n",
    "print(\"Set:\", letters)"
   ]
  },
  {
   "cell_type": "code",
   "execution_count": null,
   "metadata": {
    "id": "KHfuj1qfPEz7"
   },
   "outputs": [],
   "source": [
    "17. Write a code to clear all elements from the set {1, 2, 3, 4, 5).\n"
   ]
  },
  {
   "cell_type": "code",
   "execution_count": 31,
   "metadata": {
    "colab": {
     "base_uri": "https://localhost:8080/"
    },
    "id": "ZP46vx6gPIhh",
    "outputId": "bfa4ec9a-7331-4c38-f9c3-2b93b4bcaa69"
   },
   "outputs": [
    {
     "name": "stdout",
     "output_type": "stream",
     "text": [
      "Cleared set: set()\n"
     ]
    }
   ],
   "source": [
    "numbers = {1, 2, 3, 4, 5}\n",
    "numbers.clear()\n",
    "print(\"Cleared set:\", numbers)"
   ]
  },
  {
   "cell_type": "code",
   "execution_count": null,
   "metadata": {
    "id": "7RY4cFnfPM1u"
   },
   "outputs": [],
   "source": [
    "18. Write a code to remove the element 4 from the set {1, 2, 3, 4}."
   ]
  },
  {
   "cell_type": "code",
   "execution_count": 32,
   "metadata": {
    "colab": {
     "base_uri": "https://localhost:8080/"
    },
    "id": "y4iSmDSsPRhh",
    "outputId": "9573edc0-1dae-4345-e74a-4650c0dbb45d"
   },
   "outputs": [
    {
     "name": "stdout",
     "output_type": "stream",
     "text": [
      "Set after removing 4: {1, 2, 3}\n"
     ]
    }
   ],
   "source": [
    "numbers = {1, 2, 3, 4}\n",
    "numbers.remove(4)\n",
    "print(\"Set after removing 4:\", numbers)\n"
   ]
  },
  {
   "cell_type": "markdown",
   "metadata": {
    "id": "Su543ZREPkbE"
   },
   "source": [
    "19. Write a code to find the union of two sets {1, 2, 3} and {3, 4, 5)."
   ]
  },
  {
   "cell_type": "code",
   "execution_count": 33,
   "metadata": {
    "colab": {
     "base_uri": "https://localhost:8080/"
    },
    "id": "dAC_ICMUPfnV",
    "outputId": "39dda0c8-87a4-4d5c-b7f7-a4d6c3d4eddf"
   },
   "outputs": [
    {
     "name": "stdout",
     "output_type": "stream",
     "text": [
      "Union: {1, 2, 3, 4, 5}\n"
     ]
    }
   ],
   "source": [
    "set1 = {1, 2, 3}\n",
    "set2 = {3, 4, 5}\n",
    "union_set = set1.union(set2)\n",
    "print(\"Union:\", union_set)"
   ]
  },
  {
   "cell_type": "markdown",
   "metadata": {
    "id": "cS_6BQJAPsp5"
   },
   "source": [
    "20. Write a code to find the intersection of two sets {1, 2, 3} and {2, 3, 4}.\n"
   ]
  },
  {
   "cell_type": "code",
   "execution_count": 34,
   "metadata": {
    "colab": {
     "base_uri": "https://localhost:8080/"
    },
    "id": "4glBapwhPoeo",
    "outputId": "8b66e2c5-808b-4103-923a-ee4266503657"
   },
   "outputs": [
    {
     "name": "stdout",
     "output_type": "stream",
     "text": [
      "Intersection: {2, 3}\n"
     ]
    }
   ],
   "source": [
    "set3 = {1, 2, 3}\n",
    "set4 = {2, 3, 4}\n",
    "intersection_set = set3.intersection(set4)\n",
    "print(\"Intersection:\", intersection_set)\n"
   ]
  },
  {
   "cell_type": "markdown",
   "metadata": {
    "id": "0ywy0ygXPz1U"
   },
   "source": [
    "21. Write a code to create a dictionary with the keys \"name\", \"age\", and \"city\", and print it."
   ]
  },
  {
   "cell_type": "code",
   "execution_count": 35,
   "metadata": {
    "colab": {
     "base_uri": "https://localhost:8080/"
    },
    "id": "BSDsvYIzP1pn",
    "outputId": "da628853-cc22-4810-e2d6-96e9bf26ac96"
   },
   "outputs": [
    {
     "name": "stdout",
     "output_type": "stream",
     "text": [
      "Dictionary: {'name': 'John', 'age': 25, 'city': 'New York'}\n"
     ]
    }
   ],
   "source": [
    "person = {\"name\": \"John\", \"age\": 25, \"city\": \"New York\"}\n",
    "print(\"Dictionary:\", person)"
   ]
  },
  {
   "cell_type": "markdown",
   "metadata": {
    "id": "HIXwLlbTP-1W"
   },
   "source": [
    "22. Write a code to add a new key-value pair \"country\": \"USA\" to the dictionary ['name': 'John', 'age': 25]."
   ]
  },
  {
   "cell_type": "code",
   "execution_count": 36,
   "metadata": {
    "colab": {
     "base_uri": "https://localhost:8080/"
    },
    "id": "V8y3ZvgyP5fS",
    "outputId": "8945611d-fc96-40d1-e8f1-95c157dc74f0"
   },
   "outputs": [
    {
     "name": "stdout",
     "output_type": "stream",
     "text": [
      "Updated dictionary: {'name': 'John', 'age': 25, 'country': 'USA'}\n"
     ]
    }
   ],
   "source": [
    "person2 = {\"name\": \"John\", \"age\": 25}\n",
    "person2[\"country\"] = \"USA\"\n",
    "print(\"Updated dictionary:\", person2)"
   ]
  },
  {
   "cell_type": "markdown",
   "metadata": {
    "id": "wq6n6bubQGXu"
   },
   "source": [
    "23. Write a code to access the value associated with the key \"name\" in the dictionary ['name': 'Alice', 'age': 30)."
   ]
  },
  {
   "cell_type": "code",
   "execution_count": 37,
   "metadata": {
    "colab": {
     "base_uri": "https://localhost:8080/"
    },
    "id": "jLreaPdIQCnJ",
    "outputId": "a4ee7843-d3c0-4033-be9a-e9492c717cf6"
   },
   "outputs": [
    {
     "name": "stdout",
     "output_type": "stream",
     "text": [
      "Name: Alice\n"
     ]
    }
   ],
   "source": [
    "person3 = {\"name\": \"Alice\", \"age\": 30}\n",
    "print(\"Name:\", person3[\"name\"])"
   ]
  },
  {
   "cell_type": "code",
   "execution_count": null,
   "metadata": {
    "id": "KtIQsDq1QLce"
   },
   "outputs": [],
   "source": [
    "24. Write a code to remove the key \"age\" from the dictionary {'name': 'Bob', 'age': 22, 'city': 'New York']."
   ]
  },
  {
   "cell_type": "code",
   "execution_count": 38,
   "metadata": {
    "colab": {
     "base_uri": "https://localhost:8080/"
    },
    "id": "vVnSEFRYQPH0",
    "outputId": "523c289b-bd69-4d16-dfde-f15fe0d7800f"
   },
   "outputs": [
    {
     "name": "stdout",
     "output_type": "stream",
     "text": [
      "Dictionary after removing 'age': {'name': 'Bob', 'city': 'New York'}\n"
     ]
    }
   ],
   "source": [
    "person4 = {\"name\": \"Bob\", \"age\": 22, \"city\": \"New York\"}\n",
    "del person4[\"age\"]\n",
    "print(\"Dictionary after removing 'age':\", person4)"
   ]
  },
  {
   "cell_type": "markdown",
   "metadata": {
    "id": "FYDQCihvQVe4"
   },
   "source": [
    "25. Write a code to check if the key \"city\" exists in the dictionary {'name': 'Alice', 'city': 'Paris').\n"
   ]
  },
  {
   "cell_type": "code",
   "execution_count": 39,
   "metadata": {
    "colab": {
     "base_uri": "https://localhost:8080/"
    },
    "id": "dCV5kMppQYH2",
    "outputId": "85869641-1b6f-4c67-cf21-dd2b9887228d"
   },
   "outputs": [
    {
     "name": "stdout",
     "output_type": "stream",
     "text": [
      "Does 'city' exist? True\n"
     ]
    }
   ],
   "source": [
    "person5 = {\"name\": \"Alice\", \"city\": \"Paris\"}\n",
    "print(\"Does 'city' exist?\", \"city\" in person5)\n"
   ]
  },
  {
   "cell_type": "markdown",
   "metadata": {
    "id": "9a6Wnb3OQeyO"
   },
   "source": [
    "26. Write a code to create a list, a tuple, and a dictionary, and print them all."
   ]
  },
  {
   "cell_type": "code",
   "execution_count": 40,
   "metadata": {
    "colab": {
     "base_uri": "https://localhost:8080/"
    },
    "id": "qZGTKLfoQblA",
    "outputId": "03dc249c-6787-4958-bd9b-cba9b4935300"
   },
   "outputs": [
    {
     "name": "stdout",
     "output_type": "stream",
     "text": [
      "List: [1, 2, 3]\n",
      "Tuple: ('a', 'b', 'c')\n",
      "Dictionary: {'key1': 'value1', 'key2': 'value2'}\n"
     ]
    }
   ],
   "source": [
    "my_list = [1, 2, 3]\n",
    "my_tuple = ('a', 'b', 'c')\n",
    "my_dict = {'key1': 'value1', 'key2': 'value2'}\n",
    "print(\"List:\", my_list)\n",
    "print(\"Tuple:\", my_tuple)\n",
    "print(\"Dictionary:\", my_dict)"
   ]
  },
  {
   "cell_type": "markdown",
   "metadata": {
    "id": "HMa1wQjDQ1aG"
   },
   "source": [
    "27. Write a code to create a list of 5 random numbers between 1 and 100, sort it in ascending order, and print the result. (replaced)"
   ]
  },
  {
   "cell_type": "code",
   "execution_count": 45,
   "metadata": {
    "colab": {
     "base_uri": "https://localhost:8080/"
    },
    "id": "-82hdQULQf3e",
    "outputId": "ae14382d-bac7-43e2-a28a-6cf79e2e60b2"
   },
   "outputs": [
    {
     "name": "stdout",
     "output_type": "stream",
     "text": [
      "Sorted random numbers: [17, 27, 36, 47, 98]\n"
     ]
    }
   ],
   "source": [
    "import random # import the random module\n",
    "\n",
    "random_numbers = random.sample(range(1, 101), 5)\n",
    "random_numbers.sort()\n",
    "print(\"Sorted random numbers:\", random_numbers)"
   ]
  },
  {
   "cell_type": "markdown",
   "metadata": {
    "id": "siPSlDoPRCE7"
   },
   "source": [
    "28. Write a code to create a list with strings and print the element at the third index.\n"
   ]
  },
  {
   "cell_type": "code",
   "execution_count": 42,
   "metadata": {
    "colab": {
     "base_uri": "https://localhost:8080/"
    },
    "id": "aibg2_erQ59N",
    "outputId": "37fb9c0a-7428-4fbf-8b05-b346bdcbb7f2"
   },
   "outputs": [
    {
     "name": "stdout",
     "output_type": "stream",
     "text": [
      "Element at index 3: date\n"
     ]
    }
   ],
   "source": [
    "string_list = [\"apple\", \"banana\", \"cherry\", \"date\", \"elderberry\"]\n",
    "print(\"Element at index 3:\", string_list[3])\n"
   ]
  },
  {
   "cell_type": "code",
   "execution_count": null,
   "metadata": {
    "id": "5605ydNeRF10"
   },
   "outputs": [],
   "source": [
    "29. Write a code to combine two dictionaries into one and print the result."
   ]
  },
  {
   "cell_type": "code",
   "execution_count": 43,
   "metadata": {
    "colab": {
     "base_uri": "https://localhost:8080/"
    },
    "id": "-l8cJcGjRK-9",
    "outputId": "0744d8b9-1dcc-404d-e9f4-5abdd2311cff"
   },
   "outputs": [
    {
     "name": "stdout",
     "output_type": "stream",
     "text": [
      "Combined dictionary: {'a': 1, 'b': 2, 'c': 3, 'd': 4}\n"
     ]
    }
   ],
   "source": [
    "dict1 = {\"a\": 1, \"b\": 2}\n",
    "dict2 = {\"c\": 3, \"d\": 4}\n",
    "combined_dict = {**dict1, **dict2}\n",
    "print(\"Combined dictionary:\", combined_dict)"
   ]
  },
  {
   "cell_type": "markdown",
   "metadata": {
    "id": "aa_6C6fvRRSd"
   },
   "source": [
    "30. Write a code to convert a list of strings into a set."
   ]
  },
  {
   "cell_type": "code",
   "execution_count": 44,
   "metadata": {
    "colab": {
     "base_uri": "https://localhost:8080/"
    },
    "id": "wkY61V0fRN2z",
    "outputId": "934dc19b-3cee-4f84-f991-c641e5b758f9"
   },
   "outputs": [
    {
     "name": "stdout",
     "output_type": "stream",
     "text": [
      "Set from list: {'cherry', 'apple', 'banana'}\n"
     ]
    }
   ],
   "source": [
    "string_items = [\"apple\", \"banana\", \"apple\", \"cherry\"]\n",
    "string_set = set(string_items)\n",
    "print(\"Set from list:\", string_set)"
   ]
  },
  {
   "cell_type": "code",
   "execution_count": null,
   "metadata": {
    "id": "u1JUHqdDRU6a"
   },
   "outputs": [],
   "source": []
  }
 ],
 "metadata": {
  "colab": {
   "provenance": []
  },
  "kernelspec": {
   "display_name": "Python 3 (ipykernel)",
   "language": "python",
   "name": "python3"
  },
  "language_info": {
   "codemirror_mode": {
    "name": "ipython",
    "version": 3
   },
   "file_extension": ".py",
   "mimetype": "text/x-python",
   "name": "python",
   "nbconvert_exporter": "python",
   "pygments_lexer": "ipython3",
   "version": "3.12.7"
  }
 },
 "nbformat": 4,
 "nbformat_minor": 4
}
